{
 "cells": [
  {
   "cell_type": "code",
   "execution_count": 1,
   "metadata": {},
   "outputs": [
    {
     "name": "stdout",
     "output_type": "stream",
     "text": [
      "Epoch [1/10], Loss: 0.6847918629646301\n",
      "Epoch [2/10], Loss: 0.6827009320259094\n",
      "Epoch [3/10], Loss: 0.680626392364502\n",
      "Epoch [4/10], Loss: 0.6785686016082764\n",
      "Epoch [5/10], Loss: 0.6765283942222595\n",
      "Epoch [6/10], Loss: 0.6745060086250305\n",
      "Epoch [7/10], Loss: 0.6725013256072998\n",
      "Epoch [8/10], Loss: 0.6705140471458435\n",
      "Epoch [9/10], Loss: 0.6685442924499512\n",
      "Epoch [10/10], Loss: 0.6665916442871094\n",
      "Prediction: 0.0\n"
     ]
    }
   ],
   "source": [
    "import torch\n",
    "import torch.nn as nn\n",
    "import torch.optim as optim\n",
    "import numpy as np\n",
    "\n",
    "# Define the RNN model\n",
    "class SimpleRNN(nn.Module):\n",
    "    def __init__(self, input_size, hidden_size, output_size):\n",
    "        super(SimpleRNN, self).__init__()\n",
    "        self.hidden_size = hidden_size\n",
    "        self.rnn = nn.RNN(input_size, hidden_size, batch_first=True)\n",
    "        self.fc = nn.Linear(hidden_size, output_size)\n",
    "    \n",
    "    def forward(self, x):\n",
    "        h0 = torch.zeros(1, x.size(0), self.hidden_size).to(x.device) # initial hidden state\n",
    "        out, _ = self.rnn(x, h0)\n",
    "        out = self.fc(out[:, -1, :])  # take the last output\n",
    "        return out\n",
    "\n",
    "# Prepare training data\n",
    "# Dummy data for illustration purposes\n",
    "input_size = 10  # dimension of input (e.g., size of vocabulary)\n",
    "hidden_size = 16  # dimension of hidden state\n",
    "output_size = 1  # dimension of output (binary classification)\n",
    "\n",
    "# Dummy training data\n",
    "data = np.random.randn(100, 5, input_size)  # 100 samples, each with a sequence of 5 words\n",
    "labels = np.random.randint(0, 2, (100, 1))  # binary labels\n",
    "\n",
    "# Convert numpy arrays to PyTorch tensors\n",
    "data = torch.FloatTensor(data)\n",
    "labels = torch.FloatTensor(labels)\n",
    "\n",
    "# Create the model, loss function, and optimizer\n",
    "model = SimpleRNN(input_size, hidden_size, output_size)\n",
    "criterion = nn.BCEWithLogitsLoss()\n",
    "optimizer = optim.Adam(model.parameters(), lr=0.001)\n",
    "\n",
    "# Train the model\n",
    "num_epochs = 10\n",
    "for epoch in range(num_epochs):\n",
    "    model.train()\n",
    "    optimizer.zero_grad()\n",
    "    output = model(data)\n",
    "    loss = criterion(output, labels)\n",
    "    loss.backward()\n",
    "    optimizer.step()\n",
    "    print(f'Epoch [{epoch+1}/{num_epochs}], Loss: {loss.item()}')\n",
    "\n",
    "# Example usage: Make predictions\n",
    "# Assuming testData is a tensor of shape (batch_size, sequence_length, input_size)\n",
    "testData = torch.randn(1, 5, input_size)  # example input data\n",
    "with torch.no_grad():\n",
    "    model.eval()\n",
    "    output = model(testData)\n",
    "    prediction = torch.sigmoid(output).round().item()\n",
    "    print(f'Prediction: {prediction}')\n"
   ]
  }
 ],
 "metadata": {
  "kernelspec": {
   "display_name": "Python 3",
   "language": "python",
   "name": "python3"
  },
  "language_info": {
   "codemirror_mode": {
    "name": "ipython",
    "version": 3
   },
   "file_extension": ".py",
   "mimetype": "text/x-python",
   "name": "python",
   "nbconvert_exporter": "python",
   "pygments_lexer": "ipython3",
   "version": "3.11.4"
  }
 },
 "nbformat": 4,
 "nbformat_minor": 2
}
