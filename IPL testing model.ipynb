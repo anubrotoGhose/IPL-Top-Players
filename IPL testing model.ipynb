{
 "cells": [
  {
   "cell_type": "code",
   "execution_count": null,
   "metadata": {},
   "outputs": [],
   "source": [
    "import pandas as pd\n",
    "import numpy as np\n",
    "import sqlite3"
   ]
  },
  {
   "cell_type": "code",
   "execution_count": null,
   "metadata": {},
   "outputs": [],
   "source": [
    "# Reconnect to the database\n",
    "conn = sqlite3.connect('./ipl_database.db')\n",
    "# Query the database\n",
    "df_ball = pd.read_sql_query('SELECT * FROM ipl_ball_by_ball;', conn)\n",
    "\n",
    "# Display the first few rows of the table\n",
    "print(df_ball)\n",
    "\n",
    "# Close the connection\n",
    "conn.close()"
   ]
  },
  {
   "cell_type": "code",
   "execution_count": null,
   "metadata": {},
   "outputs": [],
   "source": [
    "vk_df = df_ball[df_ball['batter'] == 'V Kohli']\n",
    "print(len(vk_df))\n",
    "vk_df"
   ]
  },
  {
   "cell_type": "code",
   "execution_count": null,
   "metadata": {},
   "outputs": [],
   "source": [
    "total_runs = vk_df['batsman_run'].sum()\n",
    "\n",
    "print(\"Total runs scored by V Kohli:\", total_runs)"
   ]
  },
  {
   "cell_type": "code",
   "execution_count": null,
   "metadata": {},
   "outputs": [],
   "source": [
    "unique_batters = df_ball['batter'].unique().tolist()\n",
    "\n",
    "unique_batters"
   ]
  },
  {
   "cell_type": "code",
   "execution_count": null,
   "metadata": {},
   "outputs": [],
   "source": [
    "batter_dict = {}\n",
    "for i in unique_batters:\n",
    "    df_batter = df_ball[df_ball['batter'] == i]\n",
    "    total_runs = df_batter['batsman_run'].sum()\n",
    "    batter_dict[i] = total_runs"
   ]
  },
  {
   "cell_type": "code",
   "execution_count": null,
   "metadata": {},
   "outputs": [],
   "source": [
    "batter_dict"
   ]
  },
  {
   "cell_type": "code",
   "execution_count": null,
   "metadata": {},
   "outputs": [],
   "source": [
    "unique_bowlers = df_ball['bowler'].unique().tolist()\n",
    "\n",
    "unique_bowlers"
   ]
  },
  {
   "cell_type": "code",
   "execution_count": null,
   "metadata": {},
   "outputs": [],
   "source": [
    "df_ball['isWicketDelivery'] = pd.to_numeric(df_ball['isWicketDelivery'], errors='coerce').fillna(0).astype(int)\n",
    "\n",
    "# Filter for deliveries by R Ashwin that resulted in a wicket\n",
    "ashwin_wickets = df_ball[(df_ball['bowler'] == 'R Ashwin') & (df_ball['isWicketDelivery'] == 1) & (df_ball['kind'] != \"run out\")]\n",
    "\n",
    "wicket_count = ashwin_wickets.shape[0]\n",
    "\n",
    "print(\"Wickets taken by R Ashwin:\", wicket_count)\n",
    "ashwin_wickets"
   ]
  },
  {
   "cell_type": "code",
   "execution_count": null,
   "metadata": {},
   "outputs": [],
   "source": [
    "bowler_dict = {}\n",
    "for i in unique_bowlers:\n",
    "    df_ball['isWicketDelivery'] = pd.to_numeric(df_ball['isWicketDelivery'], errors='coerce').fillna(0).astype(int)\n",
    "    bowler_wickets = df_ball[(df_ball['bowler'] == i) & (df_ball['isWicketDelivery'] == 1) & (df_ball['kind'] != \"run out\")]\n",
    "    wicket_count = bowler_wickets.shape[0]\n",
    "    print(\"Wickets taken by \",i,\":\", wicket_count)\n",
    "    \n",
    "    condition = (df_ball['bowler'] == i) & (df_ball['extra_type'] != \"legbyes\")\n",
    "\n",
    "    bowling_deliveries = df_ball[condition]\n",
    "\n",
    "    total_runs = bowling_deliveries['total_run'].sum()\n",
    "\n",
    "    print(\"Total runs conceded by \",i,\":\", total_runs)\n",
    "\n",
    "    bowler_legal_deliveries = df_ball[(df_ball['bowler'] == i) & (df_ball['extra_type'] != \"wides\") & (df_ball['extra_type'] != \"noballs\")]\n",
    "    bowler_legal_deliveries_count = bowler_legal_deliveries.shape[0]\n",
    "\n",
    "    print(\"Total deliveries bowled by \",i,\":\", bowler_legal_deliveries_count)\n",
    "    \n",
    "\n",
    "    bowl_deliveries = df_ball[df_ball['bowler'] == i]\n",
    "\n",
    "    grouped = bowl_deliveries.groupby(['ID', 'overs'])['ballnumber'].apply(list)\n",
    "\n",
    "    # Construct the dictionary\n",
    "    bowl_overs_dict = {}\n",
    "    for (match_id, over), balls in grouped.items():\n",
    "        if match_id not in bowl_overs_dict:\n",
    "            bowl_overs_dict[match_id] = []\n",
    "        bowl_overs_dict[match_id].append((over, balls))\n",
    "\n",
    "    # Display the dictionary\n",
    "    for match_id, overs in bowl_overs_dict.items():\n",
    "        print(f\"Match ID {match_id}: {overs}\")\n",
    "\n",
    "\n",
    "    bowling_avg = 0\n",
    "    if wicket_count == 0:\n",
    "        bowling_avg = np.nan\n",
    "    else:\n",
    "        bowling_avg = total_runs/wicket_count\n",
    "    print(\"Bowling average of \",i,\":\", bowling_avg)\n",
    "    bowler_dict[i] = [total_runs,bowler_legal_deliveries_count,wicket_count,bowling_avg,bowl_overs_dict]"
   ]
  },
  {
   "cell_type": "code",
   "execution_count": null,
   "metadata": {},
   "outputs": [],
   "source": [
    "bowler_dict"
   ]
  }
 ],
 "metadata": {
  "kernelspec": {
   "display_name": "Python 3",
   "language": "python",
   "name": "python3"
  },
  "language_info": {
   "codemirror_mode": {
    "name": "ipython",
    "version": 3
   },
   "file_extension": ".py",
   "mimetype": "text/x-python",
   "name": "python",
   "nbconvert_exporter": "python",
   "pygments_lexer": "ipython3",
   "version": "3.11.4"
  }
 },
 "nbformat": 4,
 "nbformat_minor": 2
}
